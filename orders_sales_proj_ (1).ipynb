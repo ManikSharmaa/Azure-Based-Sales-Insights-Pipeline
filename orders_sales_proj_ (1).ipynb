{
 "cells": [
  {
   "cell_type": "code",
   "execution_count": 0,
   "metadata": {
    "application/vnd.databricks.v1+cell": {
     "cellMetadata": {
      "byteLimit": 2048000,
      "rowLimit": 10000
     },
     "inputWidgets": {},
     "nuid": "8a50bc2d-d33d-4b23-a652-a4de757e3363",
     "showTitle": false,
     "tableResultSettingsMap": {},
     "title": ""
    }
   },
   "outputs": [
    {
     "output_type": "stream",
     "name": "stdout",
     "output_type": "stream",
     "text": [
      "orders.csv\n"
     ]
    }
   ],
   "source": [
    "filename= dbutils.widgets.get('filename')\n",
    "print(filename)"
   ]
  },
  {
   "cell_type": "code",
   "execution_count": 0,
   "metadata": {
    "application/vnd.databricks.v1+cell": {
     "cellMetadata": {
      "byteLimit": 2048000,
      "rowLimit": 10000
     },
     "inputWidgets": {},
     "nuid": "5c07a827-fa8b-4459-b6e7-2f1a811de83f",
     "showTitle": false,
     "tableResultSettingsMap": {},
     "title": ""
    }
   },
   "outputs": [
    {
     "output_type": "execute_result",
     "data": {
      "text/plain": [
       "[MountInfo(mountPoint='/databricks-datasets', source='databricks-datasets', encryptionType=''),\n",
       " MountInfo(mountPoint='/Volumes', source='UnityCatalogVolumes', encryptionType=''),\n",
       " MountInfo(mountPoint='/databricks/mlflow-tracking', source='databricks/mlflow-tracking', encryptionType=''),\n",
       " MountInfo(mountPoint='/databricks-results', source='databricks-results', encryptionType=''),\n",
       " MountInfo(mountPoint='/databricks/mlflow-registry', source='databricks/mlflow-registry', encryptionType=''),\n",
       " MountInfo(mountPoint='/Volume', source='DbfsReserved', encryptionType=''),\n",
       " MountInfo(mountPoint='/mnt/sales', source='wasbs://sales@ordersproj1.blob.core.windows.net', encryptionType=''),\n",
       " MountInfo(mountPoint='/volumes', source='DbfsReserved', encryptionType=''),\n",
       " MountInfo(mountPoint='/', source='DatabricksRoot', encryptionType=''),\n",
       " MountInfo(mountPoint='/volume', source='DbfsReserved', encryptionType='')]"
      ]
     },
     "execution_count": 1,
     "metadata": {},
     "output_type": "execute_result"
    }
   ],
   "source": [
    "dbutils.fs.mounts()"
   ]
  },
  {
   "cell_type": "code",
   "execution_count": 0,
   "metadata": {
    "application/vnd.databricks.v1+cell": {
     "cellMetadata": {
      "byteLimit": 2048000,
      "rowLimit": 10000
     },
     "inputWidgets": {},
     "nuid": "fe9cf2a3-ffd6-4805-ba5d-f050544ecea5",
     "showTitle": false,
     "tableResultSettingsMap": {},
     "title": ""
    }
   },
   "outputs": [],
   "source": [
    "dbServer = 'orders-proj1-server.database.windows.net'\n",
    "dbPort = '1433'\n",
    "dbName = 'orders_proj1'\n",
    "dbUser = 'order-proj-username'\n",
    "dbPassword = 'sql-password'\n",
    "databricksScope = 'new_secret_scope'"
   ]
  },
  {
   "cell_type": "code",
   "execution_count": 0,
   "metadata": {
    "application/vnd.databricks.v1+cell": {
     "cellMetadata": {
      "byteLimit": 2048000,
      "rowLimit": 10000
     },
     "inputWidgets": {},
     "nuid": "69b23c65-9447-4801-ba6f-05971e777b63",
     "showTitle": false,
     "tableResultSettingsMap": {},
     "title": ""
    }
   },
   "outputs": [],
   "source": [
    "storage_account_access_key = dbutils.secrets.get(scope= databricksScope , key= 'storage-account-access-key' )"
   ]
  },
  {
   "cell_type": "code",
   "execution_count": 0,
   "metadata": {
    "application/vnd.databricks.v1+cell": {
     "cellMetadata": {
      "byteLimit": 2048000,
      "rowLimit": 10000
     },
     "inputWidgets": {},
     "nuid": "3ea4681f-6001-46fc-922d-075623638d40",
     "showTitle": false,
     "tableResultSettingsMap": {},
     "title": ""
    }
   },
   "outputs": [
    {
     "output_type": "stream",
     "name": "stdout",
     "output_type": "stream",
     "text": [
      "Mounting was already done\n"
     ]
    }
   ],
   "source": [
    "alreadyMounted= False\n",
    "for x in dbutils.fs.mounts():\n",
    "    if x.mountPoint == '/mnt/sales':\n",
    "        alreadyMounted = True\n",
    "        break\n",
    "    else:\n",
    "        alreadyMounted= False\n",
    "\n",
    "if not alreadyMounted:\n",
    "    dbutils.fs.mount(source = 'wasbs://sales@ordersproj1.blob.core.windows.net', \n",
    "    mount_point = '/mnt/sales',\n",
    "    extra_configs={'fs.azure.account.key.ordersproj1.blob.core.windows.net':storage_account_access_key}\n",
    "     )\n",
    "    \n",
    "    alreadyMounted = True\n",
    "    print(\"Mounting Done Successfully\")\n",
    "else:\n",
    "    print(\"Mounting was already done\")\n",
    "    "
   ]
  },
  {
   "cell_type": "code",
   "execution_count": 0,
   "metadata": {
    "application/vnd.databricks.v1+cell": {
     "cellMetadata": {
      "byteLimit": 2048000,
      "rowLimit": 10000
     },
     "inputWidgets": {},
     "nuid": "8634641a-827e-41ec-bedc-44de66802bca",
     "showTitle": false,
     "tableResultSettingsMap": {},
     "title": ""
    }
   },
   "outputs": [
    {
     "output_type": "execute_result",
     "data": {
      "text/plain": [
       "True"
      ]
     },
     "execution_count": 2,
     "metadata": {},
     "output_type": "execute_result"
    }
   ],
   "source": []
  },
  {
   "cell_type": "code",
   "execution_count": 0,
   "metadata": {
    "application/vnd.databricks.v1+cell": {
     "cellMetadata": {},
     "inputWidgets": {},
     "nuid": "a4f90334-d8f8-4b61-9423-d4aceedc1291",
     "showTitle": false,
     "tableResultSettingsMap": {},
     "title": ""
    }
   },
   "outputs": [],
   "source": [
    "order_df =spark.read.csv(f'/mnt/sales/Landing/{filename}', inferSchema = True, header = True)"
   ]
  },
  {
   "cell_type": "code",
   "execution_count": 0,
   "metadata": {
    "application/vnd.databricks.v1+cell": {
     "cellMetadata": {},
     "inputWidgets": {},
     "nuid": "bafdcab4-8bdc-4d22-844e-faec7dc0a42e",
     "showTitle": false,
     "tableResultSettingsMap": {},
     "title": ""
    }
   },
   "outputs": [],
   "source": [
    "order_df_distinct = order_df.distinct()\n",
    "errorFlag = False\n",
    "\n",
    "if order_df.count() != order_df_distinct.count():\n",
    "    errorFlag = True\n",
    "\n",
    "if errorFlag:\n",
    "    dbutils.fs.mv(f'/mnt/sales/Landing/{filename}','/mnt/sales/Discarded')\n",
    "    dbutils.notebook.exit({\"errorFlag\":\"true\",\"errorMessage\":\"OrderId is repeated\"})\n",
    "\n",
    "order_df.createOrReplaceTempView('order_table')"
   ]
  },
  {
   "cell_type": "code",
   "execution_count": 0,
   "metadata": {
    "application/vnd.databricks.v1+cell": {
     "cellMetadata": {
      "byteLimit": 2048000,
      "rowLimit": 10000
     },
     "inputWidgets": {},
     "nuid": "4316ff58-fe2b-4b09-9d0f-6b83e02a6992",
     "showTitle": false,
     "tableResultSettingsMap": {},
     "title": ""
    }
   },
   "outputs": [],
   "source": [
    "dbPassword = dbutils.secrets.get(scope = databricksScope, key='sql-password')\n",
    "\n",
    "connectionUrl =f'jdbc:sqlserver://{dbServer}:{dbPort};database={dbName};user={dbUser}@{dbServer};password={dbPassword};encrypt=true;trustServerCertificate=false;hostNameInCertificate=*.database.windows.net;loginTimeout=30;'\n",
    "\n",
    "connectionProperties = {\n",
    "    'password': dbPassword,\n",
    "    'driver':'com.microsoft.sqlserver.jdbc.SQLServerDriver'}\n",
    "              "
   ]
  },
  {
   "cell_type": "code",
   "execution_count": 0,
   "metadata": {
    "application/vnd.databricks.v1+cell": {
     "cellMetadata": {
      "byteLimit": 2048000,
      "rowLimit": 10000
     },
     "inputWidgets": {},
     "nuid": "a630d396-e530-4566-a481-23c78c99e126",
     "showTitle": false,
     "tableResultSettingsMap": {},
     "title": ""
    }
   },
   "outputs": [],
   "source": [
    "validStatusDf= spark.read.jdbc(url = connectionUrl, table= 'dbo.valid_order_status', properties = connectionProperties)"
   ]
  },
  {
   "cell_type": "code",
   "execution_count": 0,
   "metadata": {
    "application/vnd.databricks.v1+cell": {
     "cellMetadata": {
      "byteLimit": 2048000,
      "rowLimit": 10000
     },
     "inputWidgets": {},
     "nuid": "f611a11d-bf24-4984-bdaf-23c536036d99",
     "showTitle": false,
     "tableResultSettingsMap": {},
     "title": ""
    }
   },
   "outputs": [],
   "source": [
    "validStatusDf.createOrReplaceTempView('valid_status')"
   ]
  },
  {
   "cell_type": "code",
   "execution_count": 0,
   "metadata": {
    "application/vnd.databricks.v1+cell": {
     "cellMetadata": {},
     "inputWidgets": {},
     "nuid": "2d9d8448-b61f-4766-88f2-e0ee670c8bfd",
     "showTitle": false,
     "tableResultSettingsMap": {},
     "title": ""
    }
   },
   "outputs": [],
   "source": [
    "invalidRowsDf =spark.sql(\"select * from order_table where order_table.order_status not in (select * from valid_status)\")"
   ]
  },
  {
   "cell_type": "code",
   "execution_count": 0,
   "metadata": {
    "application/vnd.databricks.v1+cell": {
     "cellMetadata": {},
     "inputWidgets": {},
     "nuid": "ee364f2f-9a40-40db-b771-9dba3b69abbc",
     "showTitle": false,
     "tableResultSettingsMap": {},
     "title": ""
    }
   },
   "outputs": [],
   "source": [
    "if invalidRowsDf.count() >0:\n",
    "        errorFlag= True\n",
    "if errorFlag:\n",
    "    dbutils.fs.mv(f'/mnt/sales/Landing/{filename}','/mnt/sales/Discarded')\n",
    "    dbutils.notebook.exit({'errorFlag':'true','errorMsg':'Invalid order status detected'})\n",
    "else:\n",
    "    dbutils.fs.mv(f'/mnt/sales/Landing/{filename}','/mnt/sales/Staging')\n",
    "    \n"
   ]
  },
  {
   "cell_type": "code",
   "execution_count": 0,
   "metadata": {
    "application/vnd.databricks.v1+cell": {
     "cellMetadata": {
      "byteLimit": 2048000,
      "rowLimit": 10000
     },
     "inputWidgets": {},
     "nuid": "80e1d126-5410-4f6d-bef7-b0af9fff495f",
     "showTitle": false,
     "tableResultSettingsMap": {},
     "title": ""
    }
   },
   "outputs": [],
   "source": [
    "order_item_df = spark.read.csv('/mnt/sales/Order_items/order_items_proj1.csv', header  = True, inferSchema= True)\n",
    "order_item_df.createOrReplaceTempView('order_items')"
   ]
  },
  {
   "cell_type": "code",
   "execution_count": 0,
   "metadata": {
    "application/vnd.databricks.v1+cell": {
     "cellMetadata": {
      "byteLimit": 2048000,
      "rowLimit": 10000
     },
     "inputWidgets": {},
     "nuid": "9a98770d-74d3-4da8-962d-87d6b22ed2c3",
     "showTitle": false,
     "tableResultSettingsMap": {},
     "title": ""
    }
   },
   "outputs": [],
   "source": [
    "customers_df = spark.read.jdbc(url = connectionUrl , table= 'dbo.customers', properties = connectionProperties)"
   ]
  },
  {
   "cell_type": "code",
   "execution_count": 0,
   "metadata": {
    "application/vnd.databricks.v1+cell": {
     "cellMetadata": {
      "byteLimit": 2048000,
      "rowLimit": 10000
     },
     "inputWidgets": {},
     "nuid": "859ab2e3-9a99-406d-aac7-43ef95ae6ffd",
     "showTitle": false,
     "tableResultSettingsMap": {},
     "title": ""
    }
   },
   "outputs": [],
   "source": [
    "customers_df.createOrReplaceTempView('customers')"
   ]
  },
  {
   "cell_type": "code",
   "execution_count": 0,
   "metadata": {
    "application/vnd.databricks.v1+cell": {
     "cellMetadata": {
      "byteLimit": 2048000,
      "rowLimit": 10000
     },
     "inputWidgets": {},
     "nuid": "ffdc5960-7253-411a-a713-b6d9212d525c",
     "showTitle": false,
     "tableResultSettingsMap": {},
     "title": ""
    }
   },
   "outputs": [],
   "source": [
    "order_df =spark.read.csv(f'/mnt/sales/Staging/{filename}', inferSchema = True, header = True)\n",
    "order_df.createOrReplaceTempView('order_table')\n"
   ]
  },
  {
   "cell_type": "code",
   "execution_count": 0,
   "metadata": {
    "application/vnd.databricks.v1+cell": {
     "cellMetadata": {},
     "inputWidgets": {},
     "nuid": "f8ae266a-0500-4d67-9049-c2fa76f45470",
     "showTitle": false,
     "tableResultSettingsMap": {},
     "title": ""
    }
   },
   "outputs": [],
   "source": [
    "resultDf= spark.sql(\"\"\"\n",
    "          with cte as (select c.customer_id, c.customer_fname, c.customer_lname, c.customer_city, c.customer_state,o.order_id, oi.order_item_subtotal\n",
    "            from customers c\n",
    "            join order_table o on c.customer_id = o.order_customer_id\n",
    "            join order_items oi on o.order_id = oi.order_item_order_id\n",
    "            )\n",
    "\n",
    "            select customer_id, customer_fname, customer_lname, customer_city, customer_state, count(order_id) as total_orders,\n",
    "            round(sum(order_item_subtotal),2) as total_spent\n",
    "            from cte\n",
    "            group by customer_id, customer_fname, customer_lname, customer_city, customer_state\n",
    "            order by total_spent desc\n",
    "        \"\"\")"
   ]
  },
  {
   "cell_type": "code",
   "execution_count": 0,
   "metadata": {
    "application/vnd.databricks.v1+cell": {
     "cellMetadata": {},
     "inputWidgets": {},
     "nuid": "4feb4a0e-74fb-4810-bccc-4db1c518476a",
     "showTitle": false,
     "tableResultSettingsMap": {},
     "title": ""
    }
   },
   "outputs": [],
   "source": [
    "resultDf.write.jdbc(url = connectionUrl , table= 'dbo.report_sales_data' , properties= connectionProperties , mode='overwrite')"
   ]
  }
 ],
 "metadata": {
  "application/vnd.databricks.v1+notebook": {
   "dashboards": [],
   "environmentMetadata": {
    "base_environment": "",
    "client": "1"
   },
   "language": "python",
   "notebookMetadata": {
    "mostRecentlyExecutedCommandWithImplicitDF": {
     "commandId": 142862414544035,
     "dataframes": [
      "_sqldf"
     ]
    },
    "pythonIndentUnit": 4
   },
   "notebookName": "orders_sales_proj_",
   "widgets": {}
  },
  "language_info": {
   "name": "python"
  }
 },
 "nbformat": 4,
 "nbformat_minor": 0
}